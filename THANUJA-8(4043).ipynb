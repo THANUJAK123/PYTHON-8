{
 "cells": [
  {
   "cell_type": "markdown",
   "metadata": {},
   "source": [
    "### 1:swap of 2 charecters from 2 strings"
   ]
  },
  {
   "cell_type": "code",
   "execution_count": 12,
   "metadata": {},
   "outputs": [
    {
     "name": "stdout",
     "output_type": "stream",
     "text": [
      "enter a s1 string: hello\n",
      "enter a s2 string: guys\n",
      "gullo heys\n"
     ]
    }
   ],
   "source": [
    "s1=input(\"enter a s1 string: \")\n",
    "s2=input(\"enter a s2 string: \")\n",
    "news1=s2[:2]+s1[2:]\n",
    "news2=s1[:2]+s2[2:]\n",
    "print(news1 , news2)"
   ]
  },
  {
   "cell_type": "markdown",
   "metadata": {},
   "source": [
    "#### 2:deletion of a charecter"
   ]
  },
  {
   "cell_type": "code",
   "execution_count": 14,
   "metadata": {},
   "outputs": [
    {
     "name": "stdout",
     "output_type": "stream",
     "text": [
      "thau\n"
     ]
    }
   ],
   "source": [
    "def remove(string,i):\n",
    "    a=string[:i]\n",
    "    b=string[i+1:]\n",
    "    return a+b\n",
    "print(remove(\"thanu\",3))\n"
   ]
  },
  {
   "cell_type": "markdown",
   "metadata": {},
   "source": [
    "### 3:each charecter in a new line"
   ]
  },
  {
   "cell_type": "code",
   "execution_count": 15,
   "metadata": {},
   "outputs": [
    {
     "name": "stdout",
     "output_type": "stream",
     "text": [
      "enter a string :thanmayi\n",
      "t\n",
      "h\n",
      "a\n",
      "n\n",
      "m\n",
      "a\n",
      "y\n",
      "i\n"
     ]
    }
   ],
   "source": [
    "s=str(input(\"enter a string :\"))\n",
    "for i in s:\n",
    "    print(i,end='\\n')"
   ]
  },
  {
   "cell_type": "markdown",
   "metadata": {},
   "source": [
    "### 4:removing a new line"
   ]
  },
  {
   "cell_type": "code",
   "execution_count": 4,
   "metadata": {},
   "outputs": [
    {
     "name": "stdout",
     "output_type": "stream",
     "text": [
      "the original list is:['gf\\ng', 'i\\ns', 'b\\np']\n",
      "after removing a newline: ['gfg', 'is', 'bp']\n"
     ]
    }
   ],
   "source": [
    "list=['gf\\ng','i\\ns','b\\np']\n",
    "print(\"the original list is:\"+str(list))\n",
    "res=[]\n",
    "for i in list:\n",
    "    res.append(i.replace(\"\\n\",\"\"))\n",
    "print(\"after removing a newline: \"+str(res))    "
   ]
  },
  {
   "cell_type": "code",
   "execution_count": 10,
   "metadata": {},
   "outputs": [
    {
     "name": "stdout",
     "output_type": "stream",
     "text": [
      "pranu theethi\n"
     ]
    }
   ],
   "source": [
    "s1=\"thanu\"\n",
    "s2=\"preethi\"\n",
    "news1=s2[:2]+s1[2:]\n",
    "news2=s1[:2]+s2[2:]\n",
    "print(news1 , news2)"
   ]
  },
  {
   "cell_type": "code",
   "execution_count": 7,
   "metadata": {},
   "outputs": [
    {
     "data": {
      "text/plain": [
       "'thnu'"
      ]
     },
     "execution_count": 7,
     "metadata": {},
     "output_type": "execute_result"
    }
   ],
   "source": [
    "s=\"veryyyyy\"\n"
   ]
  },
  {
   "cell_type": "code",
   "execution_count": null,
   "metadata": {},
   "outputs": [],
   "source": []
  }
 ],
 "metadata": {
  "kernelspec": {
   "display_name": "Python 3",
   "language": "python",
   "name": "python3"
  },
  "language_info": {
   "codemirror_mode": {
    "name": "ipython",
    "version": 3
   },
   "file_extension": ".py",
   "mimetype": "text/x-python",
   "name": "python",
   "nbconvert_exporter": "python",
   "pygments_lexer": "ipython3",
   "version": "3.7.6"
  }
 },
 "nbformat": 4,
 "nbformat_minor": 4
}
